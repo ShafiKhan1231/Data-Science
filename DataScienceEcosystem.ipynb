{
 "cells": [
  {
   "cell_type": "markdown",
   "id": "837e6cfd",
   "metadata": {},
   "source": [
    "# Data Science Tools and Ecosystem\n"
   ]
  },
  {
   "cell_type": "markdown",
   "id": "2a222170",
   "metadata": {},
   "source": [
    "In this notebook, Data Science Tools and Ecosystem are summarized. "
   ]
  },
  {
   "cell_type": "markdown",
   "id": "f9fcc82a",
   "metadata": {},
   "source": [
    "**Objectives:**  \n",
    "- List popular libraries used by data scientists\n",
    "- List popular languages used by data scientists\n",
    "- Perform arithmetic operations"
   ]
  },
  {
   "cell_type": "markdown",
   "id": "038accda",
   "metadata": {},
   "source": [
    "Some of the commonly used languages used by Data Scientists include: \n",
    "1. Python\n",
    "2. R\n",
    "3. SQL"
   ]
  },
  {
   "cell_type": "markdown",
   "id": "f22d4ece",
   "metadata": {},
   "source": [
    "Some of the commonly used libraries used by Data Scientists include:\n",
    "1. Numpy\n",
    "2. Pandas\n",
    "3. Keras\n"
   ]
  },
  {
   "cell_type": "markdown",
   "id": "9b85d993",
   "metadata": {},
   "source": [
    "| Data Science Tools |\n",
    "| ------------------- |\n",
    "| RStudio | \n",
    "| Apache Spark |\n",
    "| Tensor Flow "
   ]
  },
  {
   "cell_type": "markdown",
   "id": "d424d597",
   "metadata": {},
   "source": [
    "###  Below are a few examples of evaluating arithmetic expressions in Python"
   ]
  },
  {
   "cell_type": "code",
   "execution_count": 5,
   "id": "13cf24aa",
   "metadata": {},
   "outputs": [
    {
     "data": {
      "text/plain": [
       "17"
      ]
     },
     "execution_count": 5,
     "metadata": {},
     "output_type": "execute_result"
    }
   ],
   "source": [
    "# This is a simple arithmetic expression to multiply then add integers\n",
    "(3*4)+5"
   ]
  },
  {
   "cell_type": "code",
   "execution_count": 7,
   "id": "b8dde928",
   "metadata": {},
   "outputs": [
    {
     "data": {
      "text/plain": [
       "3.3333333333333335"
      ]
     },
     "execution_count": 7,
     "metadata": {},
     "output_type": "execute_result"
    }
   ],
   "source": [
    "# This will convert 200 minutes to hours by diving by 60 \n",
    "200/60 "
   ]
  },
  {
   "cell_type": "markdown",
   "id": "6cb1322c",
   "metadata": {},
   "source": [
    "## Author: \n",
    "Shafi Khan"
   ]
  },
  {
   "cell_type": "code",
   "execution_count": null,
   "id": "245e4467",
   "metadata": {},
   "outputs": [],
   "source": []
  }
 ],
 "metadata": {
  "kernelspec": {
   "display_name": "Python 3 (ipykernel)",
   "language": "python",
   "name": "python3"
  },
  "language_info": {
   "codemirror_mode": {
    "name": "ipython",
    "version": 3
   },
   "file_extension": ".py",
   "mimetype": "text/x-python",
   "name": "python",
   "nbconvert_exporter": "python",
   "pygments_lexer": "ipython3",
   "version": "3.10.9"
  }
 },
 "nbformat": 4,
 "nbformat_minor": 5
}
